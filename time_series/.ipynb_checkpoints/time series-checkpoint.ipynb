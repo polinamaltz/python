{
 "cells": [
  {
   "cell_type": "markdown",
   "id": "dressed-interpretation",
   "metadata": {},
   "source": [
    "### Подготовка данных\n",
    "Исходные данные: <br>\n",
    "Есть два массива сырых данных за период от 01 октября 2019г до 30 марта 2020г. <br>\n",
    "Первый массив для датчика давления PDI13215<br>\n",
    "Второй массив для датчика расхода FI12110<br>\n",
    "Данные собраны с разной дискретностью и частой сбора<br>\n",
    "Исходный формат<br>\n",
    "МЕТКА ВРЕМЕНИ, НАИМЕНОВАНИЕ ДАТЧИКА, ЗНАЧЕНИЕ<br>\n",
    "\n",
    "<b>TODO: </b><br>\n",
    "<b>1. Преобразовать формат данных в виде: </b> <br>\n",
    "МЕТКА ВРЕМЕНИ, ЗНАЧЕНИЕ ДЛЯ ДАТЧИКА PDI13215, ЗНАЧЕНИЕ ДЛЯ ДАТЧИКА FI12110<br>\n",
    "\n",
    "Где, в случае отсутствия значения на нужную метку времени, значение для датчиков будет интерполироваться на указанную метку времени исходя из двух точек - существующих в сырых данных значений для предудущей и для последующей меток времени. Метки времени привести к одной дискретности 10 минут, например 9:00, 9:10, 9:20 и т.д. Т.е. данные чаще чем 1 раз в 10 минут не требуются!<br>\n",
    "Строки с пустым значением или значением = NULL удалить<br>\n",
    "\n",
    "2.<b> Сохранить результат в *.csv файле в кодировке UTF-8, разделитель \",\" (запятая), формат времени: YYYY-MM-DD HH-MI-SS </b> <br>\n",
    "Как оформлять файл (можно как раз пример Pump Training Data.csv посмотреть), под цифрами 1-6 - номера строк в файле:<br>\n",
    "\t1: Point name,PDI13215,FI12110<br>\n",
    "\t2: Description,Значение для PDI13215,Значение для FI12110<br>\n",
    "\t3: Extended Name,,<br>\n",
    "\t4: Extended Description,,<br>\n",
    "\t5: Units,PSI,M3/h<br>\n",
    "\t6+:МЕТКА_ВРЕМЕНИ, ЗНАЧЕНИЕ_ДЛЯ_ДАТЧИКА_PDI13215, ЗНАЧЕНИЕ_ДЛЯ_ДАТЧИКА_FI12110<br>"
   ]
  },
  {
   "cell_type": "markdown",
   "id": "prostate-england",
   "metadata": {},
   "source": [
    "<b>Table_name_1:</b> FI12110_1 <br>\n",
    "<b>Columns:</b> Time Status Source Value <br>\n",
    "<b>Table_name_2:</b> PDI13215 <br>\n",
    "<b>Columns:</b> Time Source Value <br>"
   ]
  },
  {
   "cell_type": "code",
   "execution_count": 1,
   "id": "level-nudist",
   "metadata": {},
   "outputs": [],
   "source": [
    "import pandas as pd\n",
    "import numpy as np\n",
    "import pyodbc\n",
    "from datetime import datetime\n",
    "import seaborn as sns"
   ]
  },
  {
   "cell_type": "code",
   "execution_count": 3,
   "id": "minus-tennis",
   "metadata": {},
   "outputs": [],
   "source": [
    "conn = pyodbc.connect(r'Driver={Microsoft Access Driver (*.mdb, *.accdb)};DBQ=C:\\\\Users\\\\pauli\\\\Documents\\\\FI12110.accdb;')"
   ]
  },
  {
   "cell_type": "code",
   "execution_count": 4,
   "id": "driving-knock",
   "metadata": {},
   "outputs": [],
   "source": [
    "conn_2 = pyodbc.connect(r'Driver={Microsoft Access Driver (*.mdb, *.accdb)};DBQ=C:\\\\Users\\\\pauli\\\\Documents\\\\PDI13215.accdb;')"
   ]
  },
  {
   "cell_type": "code",
   "execution_count": 5,
   "id": "tight-header",
   "metadata": {},
   "outputs": [],
   "source": [
    "FI12110 = pd.read_sql_query('select Time, Value from FI12110_1 WHERE Time IS NOT NULL AND Value IS NOT NULL', parse_dates = {'Time':'%Y%m%d %H:%M:%S'}, con = conn)"
   ]
  },
  {
   "cell_type": "code",
   "execution_count": 6,
   "id": "secondary-issue",
   "metadata": {},
   "outputs": [],
   "source": [
    "PDI13215 = pd.read_sql_query('select Time, Value from PDI13215 WHERE Time IS NOT NULL AND Value IS NOT NULL', parse_dates = {'Time':'%Y%m%d %H:%M:%S'}, con = conn_2)"
   ]
  },
  {
   "cell_type": "code",
   "execution_count": 7,
   "id": "attended-visibility",
   "metadata": {},
   "outputs": [
    {
     "data": {
      "text/plain": [
       "(13281216, 2)"
      ]
     },
     "execution_count": 7,
     "metadata": {},
     "output_type": "execute_result"
    }
   ],
   "source": [
    "FI12110.shape"
   ]
  },
  {
   "cell_type": "code",
   "execution_count": 8,
   "id": "driven-namibia",
   "metadata": {},
   "outputs": [
    {
     "data": {
      "text/plain": [
       "(12439496, 2)"
      ]
     },
     "execution_count": 8,
     "metadata": {},
     "output_type": "execute_result"
    }
   ],
   "source": [
    "PDI13215.shape"
   ]
  },
  {
   "cell_type": "code",
   "execution_count": 9,
   "id": "unnecessary-puppy",
   "metadata": {},
   "outputs": [],
   "source": [
    "df = FI12110.merge(PDI13215, how='outer', on='Time')"
   ]
  },
  {
   "cell_type": "code",
   "execution_count": 10,
   "id": "affecting-rebound",
   "metadata": {},
   "outputs": [],
   "source": [
    "df = df.sort_values(by=\"Time\").reset_index(drop = True)\n",
    "df.columns = ['Time', 'FI12110', 'PDI13215']"
   ]
  },
  {
   "cell_type": "code",
   "execution_count": 11,
   "id": "paperback-honolulu",
   "metadata": {},
   "outputs": [
    {
     "data": {
      "text/plain": [
       "<AxesSubplot:>"
      ]
     },
     "execution_count": 11,
     "metadata": {},
     "output_type": "execute_result"
    },
    {
     "data": {
      "image/png": "[encoded data removed]",
      "text/plain": [
       "<Figure size 432x288 with 2 Axes>"
      ]
     },
     "metadata": {
      "needs_background": "light"
     },
     "output_type": "display_data"
    }
   ],
   "source": [
    "colours = ['#000099', '#ffff00'] \n",
    "sns.heatmap(df[df.columns].isnull(), cmap=sns.color_palette(colours))"
   ]
  },
  {
   "cell_type": "code",
   "execution_count": 12,
   "id": "treated-parts",
   "metadata": {},
   "outputs": [
    {
     "data": {
      "text/plain": [
       "(14094869, 3)"
      ]
     },
     "execution_count": 12,
     "metadata": {},
     "output_type": "execute_result"
    }
   ],
   "source": [
    "df.shape"
   ]
  },
  {
   "cell_type": "code",
   "execution_count": 13,
   "id": "disturbed-status",
   "metadata": {},
   "outputs": [
    {
     "data": {
      "text/html": [
       "<div>\n",
       "<style scoped>\n",
       "    .dataframe tbody tr th:only-of-type {\n",
       "        vertical-align: middle;\n",
       "    }\n",
       "\n",
       "    .dataframe tbody tr th {\n",
       "        vertical-align: top;\n",
       "    }\n",
       "\n",
       "    .dataframe thead th {\n",
       "        text-align: right;\n",
       "    }\n",
       "</style>\n",
       "<table border=\"1\" class=\"dataframe\">\n",
       "  <thead>\n",
       "    <tr style=\"text-align: right;\">\n",
       "      <th></th>\n",
       "      <th>Time</th>\n",
       "      <th>FI12110</th>\n",
       "      <th>PDI13215</th>\n",
       "    </tr>\n",
       "  </thead>\n",
       "  <tbody>\n",
       "    <tr>\n",
       "      <th>0</th>\n",
       "      <td>2019-10-01 00:15:25</td>\n",
       "      <td>NaN</td>\n",
       "      <td>70.0</td>\n",
       "    </tr>\n",
       "    <tr>\n",
       "      <th>1</th>\n",
       "      <td>2019-10-01 01:15:25</td>\n",
       "      <td>NaN</td>\n",
       "      <td>70.0</td>\n",
       "    </tr>\n",
       "    <tr>\n",
       "      <th>2</th>\n",
       "      <td>2019-10-01 02:15:26</td>\n",
       "      <td>NaN</td>\n",
       "      <td>70.0</td>\n",
       "    </tr>\n",
       "    <tr>\n",
       "      <th>3</th>\n",
       "      <td>2019-10-01 03:15:26</td>\n",
       "      <td>NaN</td>\n",
       "      <td>70.0</td>\n",
       "    </tr>\n",
       "    <tr>\n",
       "      <th>4</th>\n",
       "      <td>2019-10-01 04:15:27</td>\n",
       "      <td>NaN</td>\n",
       "      <td>70.0</td>\n",
       "    </tr>\n",
       "  </tbody>\n",
       "</table>\n",
       "</div>"
      ],
      "text/plain": [
       "                 Time  FI12110  PDI13215\n",
       "0 2019-10-01 00:15:25      NaN      70.0\n",
       "1 2019-10-01 01:15:25      NaN      70.0\n",
       "2 2019-10-01 02:15:26      NaN      70.0\n",
       "3 2019-10-01 03:15:26      NaN      70.0\n",
       "4 2019-10-01 04:15:27      NaN      70.0"
      ]
     },
     "execution_count": 13,
     "metadata": {},
     "output_type": "execute_result"
    }
   ],
   "source": [
    "df.head()"
   ]
  },
  {
   "cell_type": "markdown",
   "id": "educational-refrigerator",
   "metadata": {},
   "source": [
    "### Replacing duplicates by their mean values\n",
    "#### Converting dataframe to series"
   ]
  },
  {
   "cell_type": "code",
   "execution_count": 29,
   "id": "native-destruction",
   "metadata": {},
   "outputs": [],
   "source": [
    "FI12110 = FI12110.groupby('Time').mean().reset_index()"
   ]
  },
  {
   "cell_type": "code",
   "execution_count": 30,
   "id": "enhanced-atlas",
   "metadata": {},
   "outputs": [
    {
     "data": {
      "text/html": [
       "<div>\n",
       "<style scoped>\n",
       "    .dataframe tbody tr th:only-of-type {\n",
       "        vertical-align: middle;\n",
       "    }\n",
       "\n",
       "    .dataframe tbody tr th {\n",
       "        vertical-align: top;\n",
       "    }\n",
       "\n",
       "    .dataframe thead th {\n",
       "        text-align: right;\n",
       "    }\n",
       "</style>\n",
       "<table border=\"1\" class=\"dataframe\">\n",
       "  <thead>\n",
       "    <tr style=\"text-align: right;\">\n",
       "      <th></th>\n",
       "      <th>Time</th>\n",
       "      <th>Value</th>\n",
       "    </tr>\n",
       "  </thead>\n",
       "  <tbody>\n",
       "    <tr>\n",
       "      <th>0</th>\n",
       "      <td>2019-10-01 09:00:01</td>\n",
       "      <td>503.131744</td>\n",
       "    </tr>\n",
       "    <tr>\n",
       "      <th>1</th>\n",
       "      <td>2019-10-01 09:00:27</td>\n",
       "      <td>507.307098</td>\n",
       "    </tr>\n",
       "    <tr>\n",
       "      <th>2</th>\n",
       "      <td>2019-10-01 09:00:28</td>\n",
       "      <td>503.131744</td>\n",
       "    </tr>\n",
       "    <tr>\n",
       "      <th>3</th>\n",
       "      <td>2019-10-01 09:00:30</td>\n",
       "      <td>507.307098</td>\n",
       "    </tr>\n",
       "    <tr>\n",
       "      <th>4</th>\n",
       "      <td>2019-10-01 09:00:31</td>\n",
       "      <td>503.131744</td>\n",
       "    </tr>\n",
       "    <tr>\n",
       "      <th>...</th>\n",
       "      <td>...</td>\n",
       "      <td>...</td>\n",
       "    </tr>\n",
       "    <tr>\n",
       "      <th>13281205</th>\n",
       "      <td>2020-03-31 08:59:56</td>\n",
       "      <td>47993.074219</td>\n",
       "    </tr>\n",
       "    <tr>\n",
       "      <th>13281206</th>\n",
       "      <td>2020-03-31 08:59:57</td>\n",
       "      <td>48034.687500</td>\n",
       "    </tr>\n",
       "    <tr>\n",
       "      <th>13281207</th>\n",
       "      <td>2020-03-31 08:59:58</td>\n",
       "      <td>48069.175781</td>\n",
       "    </tr>\n",
       "    <tr>\n",
       "      <th>13281208</th>\n",
       "      <td>2020-03-31 08:59:59</td>\n",
       "      <td>48062.964844</td>\n",
       "    </tr>\n",
       "    <tr>\n",
       "      <th>13281209</th>\n",
       "      <td>2020-03-31 09:00:00</td>\n",
       "      <td>48089.742188</td>\n",
       "    </tr>\n",
       "  </tbody>\n",
       "</table>\n",
       "<p>13281210 rows × 2 columns</p>\n",
       "</div>"
      ],
      "text/plain": [
       "                        Time         Value\n",
       "0        2019-10-01 09:00:01    503.131744\n",
       "1        2019-10-01 09:00:27    507.307098\n",
       "2        2019-10-01 09:00:28    503.131744\n",
       "3        2019-10-01 09:00:30    507.307098\n",
       "4        2019-10-01 09:00:31    503.131744\n",
       "...                      ...           ...\n",
       "13281205 2020-03-31 08:59:56  47993.074219\n",
       "13281206 2020-03-31 08:59:57  48034.687500\n",
       "13281207 2020-03-31 08:59:58  48069.175781\n",
       "13281208 2020-03-31 08:59:59  48062.964844\n",
       "13281209 2020-03-31 09:00:00  48089.742188\n",
       "\n",
       "[13281210 rows x 2 columns]"
      ]
     },
     "execution_count": 30,
     "metadata": {},
     "output_type": "execute_result"
    }
   ],
   "source": [
    "FI12110"
   ]
  },
  {
   "cell_type": "code",
   "execution_count": 31,
   "id": "stuffed-leader",
   "metadata": {},
   "outputs": [],
   "source": [
    "FI = pd.Series(FI12110['Value'].values, index=FI12110['Time'].values)"
   ]
  },
  {
   "cell_type": "code",
   "execution_count": 33,
   "id": "conscious-mentor",
   "metadata": {},
   "outputs": [],
   "source": [
    "PDI13215 = PDI13215.groupby('Time').mean().reset_index()"
   ]
  },
  {
   "cell_type": "code",
   "execution_count": 34,
   "id": "dated-original",
   "metadata": {},
   "outputs": [
    {
     "data": {
      "text/html": [
       "<div>\n",
       "<style scoped>\n",
       "    .dataframe tbody tr th:only-of-type {\n",
       "        vertical-align: middle;\n",
       "    }\n",
       "\n",
       "    .dataframe tbody tr th {\n",
       "        vertical-align: top;\n",
       "    }\n",
       "\n",
       "    .dataframe thead th {\n",
       "        text-align: right;\n",
       "    }\n",
       "</style>\n",
       "<table border=\"1\" class=\"dataframe\">\n",
       "  <thead>\n",
       "    <tr style=\"text-align: right;\">\n",
       "      <th></th>\n",
       "      <th>Time</th>\n",
       "      <th>Value</th>\n",
       "    </tr>\n",
       "  </thead>\n",
       "  <tbody>\n",
       "    <tr>\n",
       "      <th>0</th>\n",
       "      <td>2019-10-01 00:15:25</td>\n",
       "      <td>70.000000</td>\n",
       "    </tr>\n",
       "    <tr>\n",
       "      <th>1</th>\n",
       "      <td>2019-10-01 01:15:25</td>\n",
       "      <td>70.000000</td>\n",
       "    </tr>\n",
       "    <tr>\n",
       "      <th>2</th>\n",
       "      <td>2019-10-01 02:15:26</td>\n",
       "      <td>70.000000</td>\n",
       "    </tr>\n",
       "    <tr>\n",
       "      <th>3</th>\n",
       "      <td>2019-10-01 03:15:26</td>\n",
       "      <td>70.000000</td>\n",
       "    </tr>\n",
       "    <tr>\n",
       "      <th>4</th>\n",
       "      <td>2019-10-01 04:15:27</td>\n",
       "      <td>70.000000</td>\n",
       "    </tr>\n",
       "    <tr>\n",
       "      <th>...</th>\n",
       "      <td>...</td>\n",
       "      <td>...</td>\n",
       "    </tr>\n",
       "    <tr>\n",
       "      <th>12439478</th>\n",
       "      <td>2020-03-30 23:59:56</td>\n",
       "      <td>18.625111</td>\n",
       "    </tr>\n",
       "    <tr>\n",
       "      <th>12439479</th>\n",
       "      <td>2020-03-30 23:59:57</td>\n",
       "      <td>18.546999</td>\n",
       "    </tr>\n",
       "    <tr>\n",
       "      <th>12439480</th>\n",
       "      <td>2020-03-30 23:59:58</td>\n",
       "      <td>18.971428</td>\n",
       "    </tr>\n",
       "    <tr>\n",
       "      <th>12439481</th>\n",
       "      <td>2020-03-30 23:59:59</td>\n",
       "      <td>18.604263</td>\n",
       "    </tr>\n",
       "    <tr>\n",
       "      <th>12439482</th>\n",
       "      <td>2020-03-31 00:00:00</td>\n",
       "      <td>18.869862</td>\n",
       "    </tr>\n",
       "  </tbody>\n",
       "</table>\n",
       "<p>12439483 rows × 2 columns</p>\n",
       "</div>"
      ],
      "text/plain": [
       "                        Time      Value\n",
       "0        2019-10-01 00:15:25  70.000000\n",
       "1        2019-10-01 01:15:25  70.000000\n",
       "2        2019-10-01 02:15:26  70.000000\n",
       "3        2019-10-01 03:15:26  70.000000\n",
       "4        2019-10-01 04:15:27  70.000000\n",
       "...                      ...        ...\n",
       "12439478 2020-03-30 23:59:56  18.625111\n",
       "12439479 2020-03-30 23:59:57  18.546999\n",
       "12439480 2020-03-30 23:59:58  18.971428\n",
       "12439481 2020-03-30 23:59:59  18.604263\n",
       "12439482 2020-03-31 00:00:00  18.869862\n",
       "\n",
       "[12439483 rows x 2 columns]"
      ]
     },
     "execution_count": 34,
     "metadata": {},
     "output_type": "execute_result"
    }
   ],
   "source": [
    "PDI13215"
   ]
  },
  {
   "cell_type": "code",
   "execution_count": 132,
   "id": "absent-sword",
   "metadata": {},
   "outputs": [],
   "source": [
    "PDI = pd.Series(PDI13215['Value'].values, index=PDI13215['Time'])"
   ]
  },
  {
   "cell_type": "code",
   "execution_count": 133,
   "id": "surrounded-silver",
   "metadata": {},
   "outputs": [
    {
     "data": {
      "text/plain": [
       "Time\n",
       "2019-10-01 00:15:25    70.000000\n",
       "2019-10-01 01:15:25    70.000000\n",
       "2019-10-01 02:15:26    70.000000\n",
       "2019-10-01 03:15:26    70.000000\n",
       "2019-10-01 04:15:27    70.000000\n",
       "                         ...    \n",
       "2020-03-30 23:59:56    18.625111\n",
       "2020-03-30 23:59:57    18.546999\n",
       "2020-03-30 23:59:58    18.971428\n",
       "2020-03-30 23:59:59    18.604263\n",
       "2020-03-31 00:00:00    18.869862\n",
       "Length: 12439483, dtype: float64"
      ]
     },
     "execution_count": 133,
     "metadata": {},
     "output_type": "execute_result"
    }
   ],
   "source": [
    "PDI"
   ]
  },
  {
   "cell_type": "code",
   "execution_count": 134,
   "id": "brown-publisher",
   "metadata": {},
   "outputs": [
    {
     "data": {
      "text/plain": [
       "2019-10-01 09:00:01      503.131744\n",
       "2019-10-01 09:00:27      507.307098\n",
       "2019-10-01 09:00:28      503.131744\n",
       "2019-10-01 09:00:30      507.307098\n",
       "2019-10-01 09:00:31      503.131744\n",
       "                           ...     \n",
       "2020-03-31 08:59:56    47993.074219\n",
       "2020-03-31 08:59:57    48034.687500\n",
       "2020-03-31 08:59:58    48069.175781\n",
       "2020-03-31 08:59:59    48062.964844\n",
       "2020-03-31 09:00:00    48089.742188\n",
       "Length: 13281210, dtype: float64"
      ]
     },
     "execution_count": 134,
     "metadata": {},
     "output_type": "execute_result"
    }
   ],
   "source": [
    "FI"
   ]
  },
  {
   "cell_type": "markdown",
   "id": "naughty-bermuda",
   "metadata": {},
   "source": [
    "### Resample and interpolation"
   ]
  },
  {
   "cell_type": "code",
   "execution_count": 167,
   "id": "behavioral-panic",
   "metadata": {},
   "outputs": [],
   "source": [
    "FI_res = FI.resample('10min').interpolate()"
   ]
  },
  {
   "cell_type": "code",
   "execution_count": 168,
   "id": "thermal-nirvana",
   "metadata": {},
   "outputs": [
    {
     "name": "stdout",
     "output_type": "stream",
     "text": [
      "2019-10-01 09:00:00             NaN\n",
      "2019-10-01 09:10:00             NaN\n",
      "2019-10-01 09:20:00      526.096313\n",
      "2019-10-01 09:30:00      527.488098\n",
      "2019-10-01 09:40:00      528.879883\n",
      "                           ...     \n",
      "2020-03-31 08:20:00    47284.078125\n",
      "2020-03-31 08:30:00    47822.937500\n",
      "2020-03-31 08:40:00    47411.410156\n",
      "2020-03-31 08:50:00    47636.929688\n",
      "2020-03-31 09:00:00    48089.742188\n",
      "Freq: 10T, Length: 26209, dtype: float64\n"
     ]
    }
   ],
   "source": [
    "print(FI_res)"
   ]
  },
  {
   "cell_type": "code",
   "execution_count": 169,
   "id": "numerical-speech",
   "metadata": {},
   "outputs": [],
   "source": [
    "PDI_res = PDI.resample('10min').interpolate()"
   ]
  },
  {
   "cell_type": "code",
   "execution_count": 170,
   "id": "blessed-conjunction",
   "metadata": {},
   "outputs": [
    {
     "name": "stdout",
     "output_type": "stream",
     "text": [
      "Time\n",
      "2019-10-01 00:10:00          NaN\n",
      "2019-10-01 00:20:00          NaN\n",
      "2019-10-01 00:30:00          NaN\n",
      "2019-10-01 00:40:00          NaN\n",
      "2019-10-01 00:50:00          NaN\n",
      "                         ...    \n",
      "2020-03-30 23:20:00    18.217087\n",
      "2020-03-30 23:30:00    18.836842\n",
      "2020-03-30 23:40:00    16.967981\n",
      "2020-03-30 23:50:00    17.616421\n",
      "2020-03-31 00:00:00    18.869862\n",
      "Freq: 10T, Length: 26208, dtype: float64\n"
     ]
    }
   ],
   "source": [
    "print(PDI_res)"
   ]
  },
  {
   "cell_type": "code",
   "execution_count": 171,
   "id": "independent-vinyl",
   "metadata": {},
   "outputs": [],
   "source": [
    "FI_res = pd.DataFrame({'Time':FI_res.index, 'FI12110':FI_res.values})\n",
    "PDI_res = pd.DataFrame({'Time':PDI_res.index, 'PDI13215':PDI_res.values})"
   ]
  },
  {
   "cell_type": "code",
   "execution_count": 172,
   "id": "invisible-retailer",
   "metadata": {},
   "outputs": [],
   "source": [
    "df_final = PDI_res.merge(FI_res, how='inner', on='Time').sort_values(by=\"Time\").reset_index(drop = True)"
   ]
  },
  {
   "cell_type": "markdown",
   "id": "inner-plasma",
   "metadata": {},
   "source": [
    "### Heatmap (df_final)"
   ]
  },
  {
   "cell_type": "code",
   "execution_count": 173,
   "id": "protecting-diagnosis",
   "metadata": {},
   "outputs": [
    {
     "data": {
      "text/plain": [
       "<AxesSubplot:>"
      ]
     },
     "execution_count": 173,
     "metadata": {},
     "output_type": "execute_result"
    },
    {
     "data": {
      "image/png": "[encoded data removed]",
      "text/plain": [
       "<Figure size 432x288 with 2 Axes>"
      ]
     },
     "metadata": {
      "needs_background": "light"
     },
     "output_type": "display_data"
    }
   ],
   "source": [
    "sns.heatmap(df_final[df_final.columns].isnull(), cmap=sns.color_palette(colours))"
   ]
  },
  {
   "cell_type": "code",
   "execution_count": 174,
   "id": "promising-egypt",
   "metadata": {},
   "outputs": [],
   "source": [
    "df_final = df_final.dropna().reset_index(drop = True)"
   ]
  },
  {
   "cell_type": "markdown",
   "id": "greater-stuart",
   "metadata": {},
   "source": [
    "### Writing a pandas DataFrame to CSV file"
   ]
  },
  {
   "cell_type": "markdown",
   "id": "incredible-belarus",
   "metadata": {},
   "source": [
    "Point name,PDI13215,FI12110 <br>\n",
    "Description,Значение для PDI13215,Значение для FI12110 <br>\n",
    "Extended Name,, <br>\n",
    "Extended Description,, <br>\n",
    "Units,PSI,M3/h<br>"
   ]
  },
  {
   "cell_type": "code",
   "execution_count": 175,
   "id": "therapeutic-peoples",
   "metadata": {},
   "outputs": [],
   "source": [
    "#df_final.loc[-4] = ['Description','Pressure PDI13215','Flow rate FI12110']\n",
    "df_final.loc[-4] = ['Description','Значение для PDI13215','Значение для FI12110']\n",
    "df_final.loc[-3] = ['Extended Name', np.nan ,np.nan]\n",
    "df_final.loc[-2] = ['Extended Description', np.nan ,np.nan]\n",
    "df_final.loc[-1] = ['Units','PSI','M3/h']"
   ]
  },
  {
   "cell_type": "code",
   "execution_count": 176,
   "id": "flush-accountability",
   "metadata": {},
   "outputs": [],
   "source": [
    "df_final.index += 4"
   ]
  },
  {
   "cell_type": "code",
   "execution_count": 177,
   "id": "healthy-antigua",
   "metadata": {},
   "outputs": [],
   "source": [
    "df_final = df_final.sort_index()"
   ]
  },
  {
   "cell_type": "code",
   "execution_count": 178,
   "id": "assigned-psychiatry",
   "metadata": {},
   "outputs": [],
   "source": [
    "df_final.to_csv('out.csv', sep = ',', index = False, header = ['Point name','PDI13215','FI12110'])"
   ]
  }
 ],
 "metadata": {
  "kernelspec": {
   "display_name": "Python 3",
   "language": "python",
   "name": "python3"
  },
  "language_info": {
   "codemirror_mode": {
    "name": "ipython",
    "version": 3
   },
   "file_extension": ".py",
   "mimetype": "text/x-python",
   "name": "python",
   "nbconvert_exporter": "python",
   "pygments_lexer": "ipython3",
   "version": "3.7.9"
  }
 },
 "nbformat": 4,
 "nbformat_minor": 5
}
